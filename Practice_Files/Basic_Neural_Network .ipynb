{
 "cells": [
  {
   "cell_type": "code",
   "execution_count": 1,
   "id": "523d7f9c",
   "metadata": {},
   "outputs": [],
   "source": [
    "import pandas as pd \n",
    "import matplotlib as plt \n",
    "from sklearn.datasets import make_blobs\n",
    "import sklearn as skl\n",
    "import tensorflow as tf"
   ]
  },
  {
   "cell_type": "code",
   "execution_count": 2,
   "id": "5ef41551",
   "metadata": {},
   "outputs": [
    {
     "data": {
      "text/plain": [
       "<AxesSubplot:xlabel='Feature 1', ylabel='Feature 2'>"
      ]
     },
     "execution_count": 2,
     "metadata": {},
     "output_type": "execute_result"
    },
    {
     "data": {
      "image/png": "[encoded data removed]",
      "text/plain": [
       "<Figure size 432x288 with 2 Axes>"
      ]
     },
     "metadata": {
      "needs_background": "light"
     },
     "output_type": "display_data"
    }
   ],
   "source": [
    "# Generate dummy dataset\n",
    "X, y = make_blobs(n_samples=1000, centers=2, n_features=2, random_state=78)\n",
    "\n",
    "# Creating a DataFrame with the dummy data\n",
    "df = pd.DataFrame (X, columns= [\"Feature 1\", \"Feature 2\"])\n",
    "df[\"Target\"] = y \n",
    "\n",
    "# Plotting the dummy data \n",
    "df.plot.scatter(x=\"Feature 1\", y=\"Feature 2\", c=\"Target\", colormap=\"winter\")"
   ]
  },
  {
   "cell_type": "code",
   "execution_count": 3,
   "id": "16fa2fac",
   "metadata": {},
   "outputs": [],
   "source": [
    "#Use slklearn to split the dataset \n",
    "from sklearn.model_selection import train_test_split\n",
    "X_train, X_test, y_train, y_test = train_test_split(X, y, random_state=78)"
   ]
  },
  {
   "cell_type": "code",
   "execution_count": 4,
   "id": "fc42f100",
   "metadata": {},
   "outputs": [],
   "source": [
    "#Create a scaler instance\n",
    "X_scaler = skl.preprocessing.StandardScaler()\n",
    "\n",
    "# Fit the scaler \n",
    "X_scaler.fit(X_train)\n",
    "\n",
    "#Scale the data \n",
    "X_train_scaled = X_scaler.transform(X_train)\n",
    "X_test_scaled = X_scaler.transform(X_test)"
   ]
  },
  {
   "cell_type": "code",
   "execution_count": 5,
   "id": "7a33e697",
   "metadata": {},
   "outputs": [],
   "source": [
    "# Create the Keras Sequential model \n",
    "nn_model = tf.keras.models.Sequential()"
   ]
  },
  {
   "cell_type": "code",
   "execution_count": 6,
   "id": "e4fa7dea",
   "metadata": {},
   "outputs": [],
   "source": [
    "#inputdim indicates how many inputs will be in the model \n",
    "#units parameter indicates how many neurons we want in the hidden layer\n",
    "#activation parameter indicates which activation function to use"
   ]
  },
  {
   "cell_type": "code",
   "execution_count": 7,
   "id": "125ce77b",
   "metadata": {},
   "outputs": [],
   "source": [
    "# add out first Dense layer, including the input layer \n",
    "nn_model.add(tf.keras.layers.Dense(units=1, activation=\"relu\", input_dim=2))"
   ]
  },
  {
   "cell_type": "code",
   "execution_count": 8,
   "id": "23ad4890",
   "metadata": {},
   "outputs": [],
   "source": [
    "#For classification model, we have binary outcome, so need one output neuron\n",
    "# Add hte output layer that uses a probability activation function\n",
    "nn_model.add(tf.keras.layers.Dense(units=1, activation=\"sigmoid\"))"
   ]
  },
  {
   "cell_type": "code",
   "execution_count": 9,
   "id": "6f18dffe",
   "metadata": {},
   "outputs": [
    {
     "name": "stdout",
     "output_type": "stream",
     "text": [
      "Model: \"sequential\"\n",
      "_________________________________________________________________\n",
      "Layer (type)                 Output Shape              Param #   \n",
      "=================================================================\n",
      "dense (Dense)                (None, 1)                 3         \n",
      "_________________________________________________________________\n",
      "dense_1 (Dense)              (None, 1)                 2         \n",
      "=================================================================\n",
      "Total params: 5\n",
      "Trainable params: 5\n",
      "Non-trainable params: 0\n",
      "_________________________________________________________________\n"
     ]
    }
   ],
   "source": [
    "# Check the structure of the sequential model\n",
    "nn_model.summary()"
   ]
  },
  {
   "cell_type": "code",
   "execution_count": 10,
   "id": "1004d1f5",
   "metadata": {},
   "outputs": [],
   "source": [
    "#Compile the Sequential model together and customize metrics \n",
    "nn_model.compile(loss=\"binary_crossentropy\", optimizer=\"adam\", metrics=[\"accuracy\"])     "
   ]
  },
  {
   "cell_type": "code",
   "execution_count": 11,
   "id": "7d365343",
   "metadata": {},
   "outputs": [
    {
     "name": "stdout",
     "output_type": "stream",
     "text": [
      "Epoch 1/100\n",
      "24/24 [==============================] - 0s 947us/step - loss: 0.6941 - accuracy: 0.5775\n",
      "Epoch 2/100\n",
      "24/24 [==============================] - 0s 718us/step - loss: 0.6645 - accuracy: 0.5982\n",
      "Epoch 3/100\n",
      "24/24 [==============================] - 0s 682us/step - loss: 0.6700 - accuracy: 0.6126\n",
      "Epoch 4/100\n",
      "24/24 [==============================] - 0s 624us/step - loss: 0.6531 - accuracy: 0.6436\n",
      "Epoch 5/100\n",
      "24/24 [==============================] - 0s 640us/step - loss: 0.6471 - accuracy: 0.6837\n",
      "Epoch 6/100\n",
      "24/24 [==============================] - 0s 643us/step - loss: 0.6314 - accuracy: 0.7010\n",
      "Epoch 7/100\n",
      "24/24 [==============================] - 0s 650us/step - loss: 0.6132 - accuracy: 0.7203\n",
      "Epoch 8/100\n",
      "24/24 [==============================] - 0s 719us/step - loss: 0.6195 - accuracy: 0.7641\n",
      "Epoch 9/100\n",
      "24/24 [==============================] - 0s 637us/step - loss: 0.5927 - accuracy: 0.7785\n",
      "Epoch 10/100\n",
      "24/24 [==============================] - 0s 719us/step - loss: 0.5662 - accuracy: 0.8329\n",
      "Epoch 11/100\n",
      "24/24 [==============================] - 0s 692us/step - loss: 0.5484 - accuracy: 0.8346\n",
      "Epoch 12/100\n",
      "24/24 [==============================] - 0s 641us/step - loss: 0.5317 - accuracy: 0.8718\n",
      "Epoch 13/100\n",
      "24/24 [==============================] - 0s 650us/step - loss: 0.5089 - accuracy: 0.9198\n",
      "Epoch 14/100\n",
      "24/24 [==============================] - 0s 683us/step - loss: 0.4845 - accuracy: 0.9429\n",
      "Epoch 15/100\n",
      "24/24 [==============================] - 0s 689us/step - loss: 0.4646 - accuracy: 0.9501\n",
      "Epoch 16/100\n",
      "24/24 [==============================] - 0s 700us/step - loss: 0.4439 - accuracy: 0.9572\n",
      "Epoch 17/100\n",
      "24/24 [==============================] - 0s 715us/step - loss: 0.4339 - accuracy: 0.9645\n",
      "Epoch 18/100\n",
      "24/24 [==============================] - 0s 694us/step - loss: 0.4108 - accuracy: 0.9829\n",
      "Epoch 19/100\n",
      "24/24 [==============================] - 0s 694us/step - loss: 0.3791 - accuracy: 0.9831\n",
      "Epoch 20/100\n",
      "24/24 [==============================] - 0s 719us/step - loss: 0.3719 - accuracy: 0.9907\n",
      "Epoch 21/100\n",
      "24/24 [==============================] - 0s 698us/step - loss: 0.3553 - accuracy: 0.9903\n",
      "Epoch 22/100\n",
      "24/24 [==============================] - 0s 711us/step - loss: 0.3370 - accuracy: 0.9961\n",
      "Epoch 23/100\n",
      "24/24 [==============================] - 0s 690us/step - loss: 0.3403 - accuracy: 0.9960\n",
      "Epoch 24/100\n",
      "24/24 [==============================] - 0s 652us/step - loss: 0.3221 - accuracy: 0.9991\n",
      "Epoch 25/100\n",
      "24/24 [==============================] - 0s 651us/step - loss: 0.3075 - accuracy: 0.9961\n",
      "Epoch 26/100\n",
      "24/24 [==============================] - 0s 650us/step - loss: 0.3020 - accuracy: 0.9973\n",
      "Epoch 27/100\n",
      "24/24 [==============================] - 0s 650us/step - loss: 0.2876 - accuracy: 0.9974\n",
      "Epoch 28/100\n",
      "24/24 [==============================] - 0s 669us/step - loss: 0.2773 - accuracy: 0.9989\n",
      "Epoch 29/100\n",
      "24/24 [==============================] - 0s 638us/step - loss: 0.2738 - accuracy: 0.9989\n",
      "Epoch 30/100\n",
      "24/24 [==============================] - 0s 691us/step - loss: 0.2611 - accuracy: 0.9997\n",
      "Epoch 31/100\n",
      "24/24 [==============================] - 0s 650us/step - loss: 0.2623 - accuracy: 1.0000\n",
      "Epoch 32/100\n",
      "24/24 [==============================] - 0s 691us/step - loss: 0.2483 - accuracy: 1.0000\n",
      "Epoch 33/100\n",
      "24/24 [==============================] - 0s 690us/step - loss: 0.2506 - accuracy: 1.0000\n",
      "Epoch 34/100\n",
      "24/24 [==============================] - 0s 720us/step - loss: 0.2435 - accuracy: 1.0000\n",
      "Epoch 35/100\n",
      "24/24 [==============================] - 0s 650us/step - loss: 0.2293 - accuracy: 1.0000\n",
      "Epoch 36/100\n",
      "24/24 [==============================] - 0s 651us/step - loss: 0.2185 - accuracy: 1.0000\n",
      "Epoch 37/100\n",
      "24/24 [==============================] - 0s 649us/step - loss: 0.2137 - accuracy: 1.0000\n",
      "Epoch 38/100\n",
      "24/24 [==============================] - 0s 650us/step - loss: 0.2159 - accuracy: 1.0000\n",
      "Epoch 39/100\n",
      "24/24 [==============================] - 0s 673us/step - loss: 0.2016 - accuracy: 1.0000\n",
      "Epoch 40/100\n",
      "24/24 [==============================] - 0s 650us/step - loss: 0.2059 - accuracy: 1.0000\n",
      "Epoch 41/100\n",
      "24/24 [==============================] - 0s 650us/step - loss: 0.1936 - accuracy: 1.0000\n",
      "Epoch 42/100\n",
      "24/24 [==============================] - 0s 670us/step - loss: 0.1965 - accuracy: 1.0000\n",
      "Epoch 43/100\n",
      "24/24 [==============================] - 0s 631us/step - loss: 0.1903 - accuracy: 1.0000\n",
      "Epoch 44/100\n",
      "24/24 [==============================] - 0s 666us/step - loss: 0.1812 - accuracy: 1.0000\n",
      "Epoch 45/100\n",
      "24/24 [==============================] - 0s 646us/step - loss: 0.1727 - accuracy: 1.0000\n",
      "Epoch 46/100\n",
      "24/24 [==============================] - 0s 694us/step - loss: 0.1700 - accuracy: 1.0000\n",
      "Epoch 47/100\n",
      "24/24 [==============================] - 0s 778us/step - loss: 0.1746 - accuracy: 1.0000\n",
      "Epoch 48/100\n",
      "24/24 [==============================] - 0s 781us/step - loss: 0.1670 - accuracy: 1.0000\n",
      "Epoch 49/100\n",
      "24/24 [==============================] - ETA: 0s - loss: 0.1516 - accuracy: 1.00 - 0s 691us/step - loss: 0.1573 - accuracy: 1.0000\n",
      "Epoch 50/100\n",
      "24/24 [==============================] - 0s 666us/step - loss: 0.1624 - accuracy: 1.0000\n",
      "Epoch 51/100\n",
      "24/24 [==============================] - 0s 607us/step - loss: 0.1609 - accuracy: 1.0000\n",
      "Epoch 52/100\n",
      "24/24 [==============================] - 0s 650us/step - loss: 0.1565 - accuracy: 1.0000\n",
      "Epoch 53/100\n",
      "24/24 [==============================] - 0s 654us/step - loss: 0.1552 - accuracy: 1.0000\n",
      "Epoch 54/100\n",
      "24/24 [==============================] - 0s 687us/step - loss: 0.1479 - accuracy: 1.0000\n",
      "Epoch 55/100\n",
      "24/24 [==============================] - 0s 650us/step - loss: 0.1423 - accuracy: 1.0000\n",
      "Epoch 56/100\n",
      "24/24 [==============================] - 0s 707us/step - loss: 0.1485 - accuracy: 1.0000\n",
      "Epoch 57/100\n",
      "24/24 [==============================] - 0s 629us/step - loss: 0.1357 - accuracy: 1.0000\n",
      "Epoch 58/100\n",
      "24/24 [==============================] - 0s 703us/step - loss: 0.1330 - accuracy: 1.0000\n",
      "Epoch 59/100\n",
      "24/24 [==============================] - 0s 720us/step - loss: 0.1389 - accuracy: 1.0000\n",
      "Epoch 60/100\n",
      "24/24 [==============================] - 0s 651us/step - loss: 0.1370 - accuracy: 1.0000\n",
      "Epoch 61/100\n",
      "24/24 [==============================] - 0s 678us/step - loss: 0.1283 - accuracy: 1.0000\n",
      "Epoch 62/100\n",
      "24/24 [==============================] - 0s 668us/step - loss: 0.1261 - accuracy: 1.0000\n",
      "Epoch 63/100\n",
      "24/24 [==============================] - 0s 642us/step - loss: 0.1226 - accuracy: 1.0000\n",
      "Epoch 64/100\n",
      "24/24 [==============================] - 0s 694us/step - loss: 0.1205 - accuracy: 1.0000\n",
      "Epoch 65/100\n",
      "24/24 [==============================] - 0s 627us/step - loss: 0.1182 - accuracy: 1.0000\n",
      "Epoch 66/100\n",
      "24/24 [==============================] - 0s 672us/step - loss: 0.1149 - accuracy: 1.0000\n",
      "Epoch 67/100\n",
      "24/24 [==============================] - 0s 615us/step - loss: 0.1124 - accuracy: 1.0000\n",
      "Epoch 68/100\n",
      "24/24 [==============================] - 0s 593us/step - loss: 0.1130 - accuracy: 1.0000\n",
      "Epoch 69/100\n",
      "24/24 [==============================] - 0s 607us/step - loss: 0.1107 - accuracy: 1.0000\n",
      "Epoch 70/100\n",
      "24/24 [==============================] - 0s 664us/step - loss: 0.1171 - accuracy: 1.0000\n",
      "Epoch 71/100\n",
      "24/24 [==============================] - 0s 607us/step - loss: 0.1062 - accuracy: 1.0000\n",
      "Epoch 72/100\n",
      "24/24 [==============================] - 0s 607us/step - loss: 0.1061 - accuracy: 1.0000\n",
      "Epoch 73/100\n",
      "24/24 [==============================] - 0s 619us/step - loss: 0.0982 - accuracy: 1.0000\n",
      "Epoch 74/100\n",
      "24/24 [==============================] - 0s 580us/step - loss: 0.1045 - accuracy: 1.0000\n",
      "Epoch 75/100\n",
      "24/24 [==============================] - 0s 581us/step - loss: 0.0951 - accuracy: 1.0000\n",
      "Epoch 76/100\n",
      "24/24 [==============================] - 0s 607us/step - loss: 0.1013 - accuracy: 1.0000\n",
      "Epoch 77/100\n",
      "24/24 [==============================] - 0s 607us/step - loss: 0.1009 - accuracy: 1.0000\n",
      "Epoch 78/100\n",
      "24/24 [==============================] - 0s 596us/step - loss: 0.1019 - accuracy: 1.0000\n",
      "Epoch 79/100\n",
      "24/24 [==============================] - 0s 587us/step - loss: 0.0947 - accuracy: 1.0000\n",
      "Epoch 80/100\n",
      "24/24 [==============================] - 0s 608us/step - loss: 0.0914 - accuracy: 1.0000\n"
     ]
    },
    {
     "name": "stdout",
     "output_type": "stream",
     "text": [
      "Epoch 81/100\n",
      "24/24 [==============================] - 0s 607us/step - loss: 0.0885 - accuracy: 1.0000\n",
      "Epoch 82/100\n",
      "24/24 [==============================] - 0s 772us/step - loss: 0.0869 - accuracy: 1.0000\n",
      "Epoch 83/100\n",
      "24/24 [==============================] - 0s 2ms/step - loss: 0.0865 - accuracy: 1.0000\n",
      "Epoch 84/100\n",
      "24/24 [==============================] - 0s 2ms/step - loss: 0.0876 - accuracy: 1.0000\n",
      "Epoch 85/100\n",
      "24/24 [==============================] - 0s 2ms/step - loss: 0.0827 - accuracy: 1.0000\n",
      "Epoch 86/100\n",
      "24/24 [==============================] - 0s 2ms/step - loss: 0.0824 - accuracy: 1.0000\n",
      "Epoch 87/100\n",
      "24/24 [==============================] - 0s 2ms/step - loss: 0.0835 - accuracy: 1.0000\n",
      "Epoch 88/100\n",
      "24/24 [==============================] - 0s 2ms/step - loss: 0.0811 - accuracy: 1.0000\n",
      "Epoch 89/100\n",
      "24/24 [==============================] - 0s 2ms/step - loss: 0.0791 - accuracy: 1.0000\n",
      "Epoch 90/100\n",
      "24/24 [==============================] - 0s 2ms/step - loss: 0.0762 - accuracy: 1.0000\n",
      "Epoch 91/100\n",
      "24/24 [==============================] - 0s 1ms/step - loss: 0.0792 - accuracy: 1.0000\n",
      "Epoch 92/100\n",
      "24/24 [==============================] - 0s 2ms/step - loss: 0.0750 - accuracy: 1.0000\n",
      "Epoch 93/100\n",
      "24/24 [==============================] - 0s 2ms/step - loss: 0.0746 - accuracy: 1.0000\n",
      "Epoch 94/100\n",
      "24/24 [==============================] - 0s 2ms/step - loss: 0.0744 - accuracy: 1.0000\n",
      "Epoch 95/100\n",
      "24/24 [==============================] - 0s 2ms/step - loss: 0.0777 - accuracy: 1.0000\n",
      "Epoch 96/100\n",
      "24/24 [==============================] - 0s 2ms/step - loss: 0.0723 - accuracy: 1.0000\n",
      "Epoch 97/100\n",
      "24/24 [==============================] - 0s 1ms/step - loss: 0.0734 - accuracy: 1.0000\n",
      "Epoch 98/100\n",
      "24/24 [==============================] - 0s 969us/step - loss: 0.0703 - accuracy: 1.0000\n",
      "Epoch 99/100\n",
      "24/24 [==============================] - 0s 852us/step - loss: 0.0691 - accuracy: 1.0000\n",
      "Epoch 100/100\n",
      "24/24 [==============================] - 0s 1ms/step - loss: 0.0680 - accuracy: 1.0000\n"
     ]
    }
   ],
   "source": [
    "# train and test basic nn network \n",
    "# Fit the model to the training data \n",
    "fit_model = nn_model.fit(X_train_scaled, y_train, epochs=100)"
   ]
  },
  {
   "cell_type": "code",
   "execution_count": 12,
   "id": "fba23dd3",
   "metadata": {},
   "outputs": [
    {
     "data": {
      "text/plain": [
       "<AxesSubplot:>"
      ]
     },
     "execution_count": 12,
     "metadata": {},
     "output_type": "execute_result"
    },
    {
     "data": {
      "image/png": "[encoded data removed]",
      "text/plain": [
       "<Figure size 432x288 with 1 Axes>"
      ]
     },
     "metadata": {
      "needs_background": "light"
     },
     "output_type": "display_data"
    }
   ],
   "source": [
    "# Create a dataframe containing training history \n",
    "history_df = pd.DataFrame(fit_model.history, index=range(1, len(fit_model.history[\"loss\"])+1))\n",
    "\n",
    "#Plot the loss\n",
    "history_df.plot(y=\"loss\")"
   ]
  },
  {
   "cell_type": "code",
   "execution_count": 13,
   "id": "b29d4dd1",
   "metadata": {},
   "outputs": [
    {
     "data": {
      "text/plain": [
       "<AxesSubplot:>"
      ]
     },
     "execution_count": 13,
     "metadata": {},
     "output_type": "execute_result"
    },
    {
     "data": {
      "image/png": "[encoded data removed]",
      "text/plain": [
       "<Figure size 432x288 with 1 Axes>"
      ]
     },
     "metadata": {
      "needs_background": "light"
     },
     "output_type": "display_data"
    }
   ],
   "source": [
    "#Plot the accuracy \n",
    "history_df.plot(y=\"accuracy\")"
   ]
  },
  {
   "cell_type": "code",
   "execution_count": 14,
   "id": "4e90acbd",
   "metadata": {},
   "outputs": [
    {
     "name": "stdout",
     "output_type": "stream",
     "text": [
      "8/8 - 0s - loss: 0.0706 - accuracy: 1.0000\n",
      "Loss: 0.07059645652770996, Accuracy: 1.0\n"
     ]
    }
   ],
   "source": [
    "#Evaluate the model using the test data \n",
    "model_loss, model_accuracy = nn_model.evaluate(X_test_scaled, y_test, verbose = 2)\n",
    "print(f\"Loss: {model_loss}, Accuracy: {model_accuracy}\")"
   ]
  },
  {
   "cell_type": "code",
   "execution_count": 15,
   "id": "5b9c9bda",
   "metadata": {},
   "outputs": [
    {
     "data": {
      "text/plain": [
       "array([[0],\n",
       "       [1],\n",
       "       [0],\n",
       "       [1],\n",
       "       [0],\n",
       "       [0],\n",
       "       [1],\n",
       "       [1],\n",
       "       [1],\n",
       "       [0]])"
      ]
     },
     "execution_count": 15,
     "metadata": {},
     "output_type": "execute_result"
    }
   ],
   "source": [
    "# Predict the classification of a new set of blob data \n",
    "new_X, new_Y = make_blobs(n_samples=10, centers=2, n_features=2, random_state=78)\n",
    "new_X_scaled = X_scaler.transform(new_X)\n",
    "(nn_model.predict(new_X_scaled) > 0.5).astype(\"int32\")"
   ]
  },
  {
   "cell_type": "code",
   "execution_count": 16,
   "id": "05f31e21",
   "metadata": {},
   "outputs": [
    {
     "data": {
      "text/plain": [
       "<AxesSubplot:xlabel='Feature 1', ylabel='Feature 2'>"
      ]
     },
     "execution_count": 16,
     "metadata": {},
     "output_type": "execute_result"
    },
    {
     "data": {
      "image/png": "[encoded data removed]",
      "text/plain": [
       "<Figure size 432x288 with 2 Axes>"
      ]
     },
     "metadata": {
      "needs_background": "light"
     },
     "output_type": "display_data"
    }
   ],
   "source": [
    "from sklearn.datasets import make_moons\n",
    "\n",
    "# Create dummy non-linear data \n",
    "X_moons, y_moons = make_moons(n_samples=1000, noise=0.08, random_state=78)\n",
    "\n",
    "# Transforming y_moons to a vertical vector \n",
    "y_moons = y_moons.reshape(-1,1)\n",
    "\n",
    "# Create a dataframe to plot the nonlinear dummy data \n",
    "df_moons = pd.DataFrame(X_moons, columns=[\"Feature 1\", \"Feature 2\"])\n",
    "df_moons[\"Target\"] = y_moons\n",
    "\n",
    "# Plot the nonlinear dummy data \n",
    "df_moons.plot.scatter(x=\"Feature 1\", y=\"Feature 2\", c=\"Target\", colormap=\"winter\")   "
   ]
  },
  {
   "cell_type": "code",
   "execution_count": 17,
   "id": "bfaf3616",
   "metadata": {},
   "outputs": [],
   "source": [
    "from sklearn.model_selection import train_test_split\n",
    "# Create training and testing sets \n",
    "X_moon_train, X_moon_test, y_moon_train, y_moon_test = train_test_split(X_moons, y_moons, random_state=78)\n",
    "\n",
    "# Create the scaler instance \n",
    "X_moon_scaler = skl.preprocessing.StandardScaler()\n",
    "\n",
    "#Fit the scaler \n",
    "X_moon_scaler.fit(X_moon_train)\n",
    "\n",
    "# Scale the data \n",
    "X_moon_train_scaled = X_moon_scaler.transform(X_moon_train) \n",
    "X_moon_test_scaled = X_moon_scaler.transform(X_moon_test)"
   ]
  },
  {
   "cell_type": "code",
   "execution_count": 18,
   "id": "182850d6",
   "metadata": {},
   "outputs": [
    {
     "name": "stdout",
     "output_type": "stream",
     "text": [
      "Epoch 1/100\n",
      "24/24 [==============================] - 0s 2ms/step - loss: 0.6827 - accuracy: 0.6907\n",
      "Epoch 2/100\n",
      "24/24 [==============================] - 0s 2ms/step - loss: 0.6185 - accuracy: 0.7027\n",
      "Epoch 3/100\n",
      "24/24 [==============================] - 0s 2ms/step - loss: 0.5689 - accuracy: 0.7213\n",
      "Epoch 4/100\n",
      "24/24 [==============================] - 0s 2ms/step - loss: 0.5323 - accuracy: 0.7307\n",
      "Epoch 5/100\n",
      "24/24 [==============================] - 0s 2ms/step - loss: 0.5042 - accuracy: 0.7427\n",
      "Epoch 6/100\n",
      "24/24 [==============================] - 0s 3ms/step - loss: 0.4813 - accuracy: 0.7547\n",
      "Epoch 7/100\n",
      "24/24 [==============================] - 0s 2ms/step - loss: 0.4626 - accuracy: 0.7680\n",
      "Epoch 8/100\n",
      "24/24 [==============================] - 0s 2ms/step - loss: 0.4461 - accuracy: 0.7720\n",
      "Epoch 9/100\n",
      "24/24 [==============================] - 0s 2ms/step - loss: 0.4318 - accuracy: 0.7813\n",
      "Epoch 10/100\n",
      "24/24 [==============================] - 0s 3ms/step - loss: 0.4191 - accuracy: 0.7867\n",
      "Epoch 11/100\n",
      "24/24 [==============================] - 0s 3ms/step - loss: 0.4072 - accuracy: 0.7907\n",
      "Epoch 12/100\n",
      "24/24 [==============================] - 0s 3ms/step - loss: 0.3968 - accuracy: 0.7920\n",
      "Epoch 13/100\n",
      "24/24 [==============================] - 0s 3ms/step - loss: 0.3874 - accuracy: 0.7987\n",
      "Epoch 14/100\n",
      "24/24 [==============================] - 0s 3ms/step - loss: 0.3781 - accuracy: 0.8027\n",
      "Epoch 15/100\n",
      "24/24 [==============================] - 0s 3ms/step - loss: 0.3698 - accuracy: 0.8080\n",
      "Epoch 16/100\n",
      "24/24 [==============================] - 0s 3ms/step - loss: 0.3621 - accuracy: 0.8093\n",
      "Epoch 17/100\n",
      "24/24 [==============================] - 0s 3ms/step - loss: 0.3548 - accuracy: 0.8160\n",
      "Epoch 18/100\n",
      "24/24 [==============================] - 0s 3ms/step - loss: 0.3477 - accuracy: 0.8213\n",
      "Epoch 19/100\n",
      "24/24 [==============================] - 0s 3ms/step - loss: 0.3411 - accuracy: 0.8227\n",
      "Epoch 20/100\n",
      "24/24 [==============================] - 0s 3ms/step - loss: 0.3350 - accuracy: 0.8267\n",
      "Epoch 21/100\n",
      "24/24 [==============================] - 0s 3ms/step - loss: 0.3291 - accuracy: 0.8360\n",
      "Epoch 22/100\n",
      "24/24 [==============================] - 0s 3ms/step - loss: 0.3234 - accuracy: 0.8413\n",
      "Epoch 23/100\n",
      "24/24 [==============================] - 0s 3ms/step - loss: 0.3183 - accuracy: 0.8453\n",
      "Epoch 24/100\n",
      "24/24 [==============================] - 0s 3ms/step - loss: 0.3135 - accuracy: 0.8467\n",
      "Epoch 25/100\n",
      "24/24 [==============================] - 0s 2ms/step - loss: 0.3091 - accuracy: 0.8480\n",
      "Epoch 26/100\n",
      "24/24 [==============================] - 0s 2ms/step - loss: 0.3050 - accuracy: 0.8507\n",
      "Epoch 27/100\n",
      "24/24 [==============================] - 0s 2ms/step - loss: 0.3011 - accuracy: 0.8520\n",
      "Epoch 28/100\n",
      "24/24 [==============================] - 0s 3ms/step - loss: 0.2974 - accuracy: 0.8520\n",
      "Epoch 29/100\n",
      "24/24 [==============================] - 0s 2ms/step - loss: 0.2942 - accuracy: 0.8520\n",
      "Epoch 30/100\n",
      "24/24 [==============================] - 0s 1ms/step - loss: 0.2912 - accuracy: 0.8573\n",
      "Epoch 31/100\n",
      "24/24 [==============================] - 0s 3ms/step - loss: 0.2885 - accuracy: 0.8587\n",
      "Epoch 32/100\n",
      "24/24 [==============================] - 0s 3ms/step - loss: 0.2860 - accuracy: 0.8600\n",
      "Epoch 33/100\n",
      "24/24 [==============================] - 0s 3ms/step - loss: 0.2837 - accuracy: 0.8640\n",
      "Epoch 34/100\n",
      "24/24 [==============================] - 0s 3ms/step - loss: 0.2817 - accuracy: 0.8667\n",
      "Epoch 35/100\n",
      "24/24 [==============================] - 0s 3ms/step - loss: 0.2798 - accuracy: 0.8693\n",
      "Epoch 36/100\n",
      "24/24 [==============================] - 0s 3ms/step - loss: 0.2782 - accuracy: 0.8773\n",
      "Epoch 37/100\n",
      "24/24 [==============================] - 0s 3ms/step - loss: 0.2767 - accuracy: 0.8773\n",
      "Epoch 38/100\n",
      "24/24 [==============================] - 0s 3ms/step - loss: 0.2753 - accuracy: 0.8813\n",
      "Epoch 39/100\n",
      "24/24 [==============================] - 0s 3ms/step - loss: 0.2740 - accuracy: 0.8813\n",
      "Epoch 40/100\n",
      "24/24 [==============================] - 0s 3ms/step - loss: 0.2729 - accuracy: 0.8813\n",
      "Epoch 41/100\n",
      "24/24 [==============================] - 0s 3ms/step - loss: 0.2717 - accuracy: 0.8813\n",
      "Epoch 42/100\n",
      "24/24 [==============================] - 0s 3ms/step - loss: 0.2708 - accuracy: 0.8813\n",
      "Epoch 43/100\n",
      "24/24 [==============================] - 0s 3ms/step - loss: 0.2700 - accuracy: 0.8827\n",
      "Epoch 44/100\n",
      "24/24 [==============================] - 0s 3ms/step - loss: 0.2692 - accuracy: 0.8840\n",
      "Epoch 45/100\n",
      "24/24 [==============================] - 0s 3ms/step - loss: 0.2684 - accuracy: 0.8853\n",
      "Epoch 46/100\n",
      "24/24 [==============================] - 0s 3ms/step - loss: 0.2678 - accuracy: 0.8853\n",
      "Epoch 47/100\n",
      "24/24 [==============================] - 0s 3ms/step - loss: 0.2671 - accuracy: 0.8853\n",
      "Epoch 48/100\n",
      "24/24 [==============================] - 0s 3ms/step - loss: 0.2665 - accuracy: 0.8853\n",
      "Epoch 49/100\n",
      "24/24 [==============================] - 0s 1ms/step - loss: 0.2661 - accuracy: 0.8853\n",
      "Epoch 50/100\n",
      "24/24 [==============================] - 0s 1ms/step - loss: 0.2655 - accuracy: 0.8867\n",
      "Epoch 51/100\n",
      "24/24 [==============================] - 0s 1ms/step - loss: 0.2650 - accuracy: 0.8853\n",
      "Epoch 52/100\n",
      "24/24 [==============================] - 0s 1ms/step - loss: 0.2646 - accuracy: 0.8867\n",
      "Epoch 53/100\n",
      "24/24 [==============================] - 0s 1ms/step - loss: 0.2641 - accuracy: 0.8853\n",
      "Epoch 54/100\n",
      "24/24 [==============================] - 0s 1ms/step - loss: 0.2638 - accuracy: 0.8867\n",
      "Epoch 55/100\n",
      "24/24 [==============================] - 0s 3ms/step - loss: 0.2635 - accuracy: 0.8867\n",
      "Epoch 56/100\n",
      "24/24 [==============================] - 0s 3ms/step - loss: 0.2631 - accuracy: 0.8880\n",
      "Epoch 57/100\n",
      "24/24 [==============================] - 0s 1ms/step - loss: 0.2628 - accuracy: 0.8880\n",
      "Epoch 58/100\n",
      "24/24 [==============================] - 0s 1ms/step - loss: 0.2624 - accuracy: 0.8880\n",
      "Epoch 59/100\n",
      "24/24 [==============================] - 0s 2ms/step - loss: 0.2622 - accuracy: 0.8893\n",
      "Epoch 60/100\n",
      "24/24 [==============================] - 0s 3ms/step - loss: 0.2619 - accuracy: 0.8880\n",
      "Epoch 61/100\n",
      "24/24 [==============================] - 0s 3ms/step - loss: 0.2616 - accuracy: 0.8893\n",
      "Epoch 62/100\n",
      "24/24 [==============================] - 0s 3ms/step - loss: 0.2612 - accuracy: 0.8893\n",
      "Epoch 63/100\n",
      "24/24 [==============================] - 0s 3ms/step - loss: 0.2611 - accuracy: 0.8920\n",
      "Epoch 64/100\n",
      "24/24 [==============================] - 0s 3ms/step - loss: 0.2608 - accuracy: 0.8920\n",
      "Epoch 65/100\n",
      "24/24 [==============================] - 0s 3ms/step - loss: 0.2608 - accuracy: 0.8907\n",
      "Epoch 66/100\n",
      "24/24 [==============================] - 0s 3ms/step - loss: 0.2603 - accuracy: 0.8920\n",
      "Epoch 67/100\n",
      "24/24 [==============================] - 0s 3ms/step - loss: 0.2601 - accuracy: 0.8933\n",
      "Epoch 68/100\n",
      "24/24 [==============================] - 0s 3ms/step - loss: 0.2599 - accuracy: 0.8933\n",
      "Epoch 69/100\n",
      "24/24 [==============================] - 0s 3ms/step - loss: 0.2597 - accuracy: 0.8933\n",
      "Epoch 70/100\n",
      "24/24 [==============================] - 0s 3ms/step - loss: 0.2596 - accuracy: 0.8947\n",
      "Epoch 71/100\n",
      "24/24 [==============================] - 0s 3ms/step - loss: 0.2594 - accuracy: 0.8933\n",
      "Epoch 72/100\n",
      "24/24 [==============================] - 0s 2ms/step - loss: 0.2592 - accuracy: 0.8933\n",
      "Epoch 73/100\n",
      "24/24 [==============================] - 0s 3ms/step - loss: 0.2590 - accuracy: 0.8947\n",
      "Epoch 74/100\n",
      "24/24 [==============================] - 0s 3ms/step - loss: 0.2588 - accuracy: 0.8947\n",
      "Epoch 75/100\n",
      "24/24 [==============================] - 0s 3ms/step - loss: 0.2586 - accuracy: 0.8933\n",
      "Epoch 76/100\n",
      "24/24 [==============================] - 0s 3ms/step - loss: 0.2585 - accuracy: 0.8947\n",
      "Epoch 77/100\n",
      "24/24 [==============================] - 0s 3ms/step - loss: 0.2583 - accuracy: 0.8933\n",
      "Epoch 78/100\n",
      "24/24 [==============================] - 0s 3ms/step - loss: 0.2582 - accuracy: 0.8920\n",
      "Epoch 79/100\n",
      "24/24 [==============================] - 0s 3ms/step - loss: 0.2580 - accuracy: 0.8933\n",
      "Epoch 80/100\n",
      "24/24 [==============================] - 0s 3ms/step - loss: 0.2579 - accuracy: 0.8933\n",
      "Epoch 81/100\n",
      "24/24 [==============================] - 0s 3ms/step - loss: 0.2577 - accuracy: 0.8933\n",
      "Epoch 82/100\n",
      "24/24 [==============================] - 0s 3ms/step - loss: 0.2576 - accuracy: 0.8933\n",
      "Epoch 83/100\n"
     ]
    },
    {
     "name": "stdout",
     "output_type": "stream",
     "text": [
      "24/24 [==============================] - 0s 3ms/step - loss: 0.2574 - accuracy: 0.8933\n",
      "Epoch 84/100\n",
      "24/24 [==============================] - 0s 3ms/step - loss: 0.2573 - accuracy: 0.8933\n",
      "Epoch 85/100\n",
      "24/24 [==============================] - 0s 2ms/step - loss: 0.2573 - accuracy: 0.8933\n",
      "Epoch 86/100\n",
      "24/24 [==============================] - 0s 2ms/step - loss: 0.2571 - accuracy: 0.8933\n",
      "Epoch 87/100\n",
      "24/24 [==============================] - 0s 2ms/step - loss: 0.2570 - accuracy: 0.8933\n",
      "Epoch 88/100\n",
      "24/24 [==============================] - 0s 2ms/step - loss: 0.2568 - accuracy: 0.8920\n",
      "Epoch 89/100\n",
      "24/24 [==============================] - 0s 3ms/step - loss: 0.2567 - accuracy: 0.8933\n",
      "Epoch 90/100\n",
      "24/24 [==============================] - 0s 2ms/step - loss: 0.2567 - accuracy: 0.8920\n",
      "Epoch 91/100\n",
      "24/24 [==============================] - 0s 1ms/step - loss: 0.2565 - accuracy: 0.8920\n",
      "Epoch 92/100\n",
      "24/24 [==============================] - 0s 1ms/step - loss: 0.2564 - accuracy: 0.8920\n",
      "Epoch 93/100\n",
      "24/24 [==============================] - 0s 3ms/step - loss: 0.2563 - accuracy: 0.8920\n",
      "Epoch 94/100\n",
      "24/24 [==============================] - 0s 2ms/step - loss: 0.2561 - accuracy: 0.8920\n",
      "Epoch 95/100\n",
      "24/24 [==============================] - 0s 3ms/step - loss: 0.2560 - accuracy: 0.8920\n",
      "Epoch 96/100\n",
      "24/24 [==============================] - 0s 2ms/step - loss: 0.2559 - accuracy: 0.8920\n",
      "Epoch 97/100\n",
      "24/24 [==============================] - 0s 3ms/step - loss: 0.2558 - accuracy: 0.8920\n",
      "Epoch 98/100\n",
      "24/24 [==============================] - 0s 3ms/step - loss: 0.2557 - accuracy: 0.8920\n",
      "Epoch 99/100\n",
      "24/24 [==============================] - ETA: 0s - loss: 0.1099 - accuracy: 0.96 - 0s 2ms/step - loss: 0.2557 - accuracy: 0.8920\n",
      "Epoch 100/100\n",
      "24/24 [==============================] - 0s 3ms/step - loss: 0.2555 - accuracy: 0.8920\n"
     ]
    }
   ],
   "source": [
    "# Train the model with the nonlinear data \n",
    "model_moon = nn_model.fit(X_moon_train_scaled, y_moon_train, epochs=100, shuffle=True)"
   ]
  },
  {
   "cell_type": "code",
   "execution_count": 19,
   "id": "85383bf8",
   "metadata": {},
   "outputs": [
    {
     "data": {
      "text/plain": [
       "<AxesSubplot:>"
      ]
     },
     "execution_count": 19,
     "metadata": {},
     "output_type": "execute_result"
    },
    {
     "data": {
      "image/png": "[encoded data removed]",
      "text/plain": [
       "<Figure size 432x288 with 1 Axes>"
      ]
     },
     "metadata": {
      "needs_background": "light"
     },
     "output_type": "display_data"
    }
   ],
   "source": [
    "# Create a dataframe containing training history \n",
    "history_df = pd.DataFrame(model_moon.history, index=range(1,len(model_moon.history[\"loss\"])+1))\n",
    "\n",
    "#Plot the loss \n",
    "history_df.plot(y=\"loss\")"
   ]
  },
  {
   "cell_type": "code",
   "execution_count": 20,
   "id": "ec44bb16",
   "metadata": {},
   "outputs": [
    {
     "data": {
      "text/plain": [
       "<AxesSubplot:>"
      ]
     },
     "execution_count": 20,
     "metadata": {},
     "output_type": "execute_result"
    },
    {
     "data": {
      "image/png": "[encoded data removed]",
      "text/plain": [
       "<Figure size 432x288 with 1 Axes>"
      ]
     },
     "metadata": {
      "needs_background": "light"
     },
     "output_type": "display_data"
    }
   ],
   "source": [
    "#Plot the loss \n",
    "history_df.plot(y=\"accuracy\")"
   ]
  },
  {
   "cell_type": "code",
   "execution_count": 21,
   "id": "c2de0cf1",
   "metadata": {},
   "outputs": [],
   "source": [
    "#Generate our new sequential model\n",
    "new_model = tf.keras.models.Sequential()"
   ]
  },
  {
   "cell_type": "code",
   "execution_count": 22,
   "id": "04473bf7",
   "metadata": {},
   "outputs": [],
   "source": [
    "# Add the input and hidden layer\n",
    "number_inputs = 2\n",
    "number_hidden_nodes = 6\n",
    "\n",
    "new_model.add(tf.keras.layers.Dense(units=number_hidden_nodes, activation=\"relu\", input_dim = number_inputs))\n",
    "\n",
    "#Add the output layer that uses probability activation function\n",
    "new_model.add(tf.keras.layers.Dense(units=1, activation=\"sigmoid\"))"
   ]
  },
  {
   "cell_type": "code",
   "execution_count": 24,
   "id": "77001319",
   "metadata": {},
   "outputs": [
    {
     "name": "stdout",
     "output_type": "stream",
     "text": [
      "Epoch 1/100\n",
      "24/24 [==============================] - 1s 1ms/step - loss: 0.8022 - accuracy: 0.3619\n",
      "Epoch 2/100\n",
      "24/24 [==============================] - 0s 1ms/step - loss: 0.7734 - accuracy: 0.3466\n",
      "Epoch 3/100\n",
      "24/24 [==============================] - 0s 1ms/step - loss: 0.7278 - accuracy: 0.4382\n",
      "Epoch 4/100\n",
      "24/24 [==============================] - 0s 987us/step - loss: 0.6803 - accuracy: 0.5231\n",
      "Epoch 5/100\n",
      "24/24 [==============================] - 0s 1ms/step - loss: 0.6379 - accuracy: 0.5655\n",
      "Epoch 6/100\n",
      "24/24 [==============================] - 0s 1ms/step - loss: 0.6212 - accuracy: 0.5922\n",
      "Epoch 7/100\n",
      "24/24 [==============================] - 0s 988us/step - loss: 0.5862 - accuracy: 0.6206\n",
      "Epoch 8/100\n",
      "24/24 [==============================] - 0s 1ms/step - loss: 0.5587 - accuracy: 0.6839\n",
      "Epoch 9/100\n",
      "24/24 [==============================] - 0s 2ms/step - loss: 0.5242 - accuracy: 0.7412\n",
      "Epoch 10/100\n",
      "24/24 [==============================] - 0s 2ms/step - loss: 0.4909 - accuracy: 0.8193\n",
      "Epoch 11/100\n",
      "24/24 [==============================] - 0s 2ms/step - loss: 0.4696 - accuracy: 0.8301\n",
      "Epoch 12/100\n",
      "24/24 [==============================] - 0s 2ms/step - loss: 0.4549 - accuracy: 0.8310\n",
      "Epoch 13/100\n",
      "24/24 [==============================] - 0s 2ms/step - loss: 0.4234 - accuracy: 0.8497\n",
      "Epoch 14/100\n",
      "24/24 [==============================] - ETA: 0s - loss: 0.4169 - accuracy: 0.81 - 0s 2ms/step - loss: 0.4129 - accuracy: 0.8412\n",
      "Epoch 15/100\n",
      "24/24 [==============================] - 0s 2ms/step - loss: 0.3934 - accuracy: 0.8543\n",
      "Epoch 16/100\n",
      "24/24 [==============================] - 0s 2ms/step - loss: 0.3767 - accuracy: 0.8386\n",
      "Epoch 17/100\n",
      "24/24 [==============================] - 0s 2ms/step - loss: 0.3703 - accuracy: 0.8485\n",
      "Epoch 18/100\n",
      "24/24 [==============================] - 0s 2ms/step - loss: 0.3557 - accuracy: 0.8618\n",
      "Epoch 19/100\n",
      "24/24 [==============================] - 0s 2ms/step - loss: 0.3385 - accuracy: 0.8669\n",
      "Epoch 20/100\n",
      "24/24 [==============================] - 0s 2ms/step - loss: 0.3370 - accuracy: 0.8658\n",
      "Epoch 21/100\n",
      "24/24 [==============================] - 0s 2ms/step - loss: 0.3391 - accuracy: 0.8545\n",
      "Epoch 22/100\n",
      "24/24 [==============================] - 0s 2ms/step - loss: 0.3177 - accuracy: 0.8613\n",
      "Epoch 23/100\n",
      "24/24 [==============================] - 0s 2ms/step - loss: 0.3257 - accuracy: 0.8528\n",
      "Epoch 24/100\n",
      "24/24 [==============================] - 0s 2ms/step - loss: 0.2929 - accuracy: 0.8797\n",
      "Epoch 25/100\n",
      "24/24 [==============================] - 0s 2ms/step - loss: 0.2996 - accuracy: 0.8697\n",
      "Epoch 26/100\n",
      "24/24 [==============================] - 0s 3ms/step - loss: 0.2844 - accuracy: 0.8829\n",
      "Epoch 27/100\n",
      "24/24 [==============================] - 0s 2ms/step - loss: 0.2746 - accuracy: 0.8944\n",
      "Epoch 28/100\n",
      "24/24 [==============================] - 0s 2ms/step - loss: 0.2918 - accuracy: 0.8722\n",
      "Epoch 29/100\n",
      "24/24 [==============================] - 0s 2ms/step - loss: 0.2669 - accuracy: 0.8935\n",
      "Epoch 30/100\n",
      "24/24 [==============================] - 0s 2ms/step - loss: 0.2719 - accuracy: 0.8835\n",
      "Epoch 31/100\n",
      "24/24 [==============================] - 0s 2ms/step - loss: 0.2398 - accuracy: 0.8975\n",
      "Epoch 32/100\n",
      "24/24 [==============================] - 0s 2ms/step - loss: 0.2520 - accuracy: 0.8828\n",
      "Epoch 33/100\n",
      "24/24 [==============================] - 0s 2ms/step - loss: 0.2444 - accuracy: 0.8909\n",
      "Epoch 34/100\n",
      "24/24 [==============================] - 0s 2ms/step - loss: 0.2623 - accuracy: 0.8802\n",
      "Epoch 35/100\n",
      "24/24 [==============================] - 0s 2ms/step - loss: 0.2482 - accuracy: 0.8942\n",
      "Epoch 36/100\n",
      "24/24 [==============================] - 0s 2ms/step - loss: 0.2429 - accuracy: 0.8863\n",
      "Epoch 37/100\n",
      "24/24 [==============================] - 0s 2ms/step - loss: 0.2648 - accuracy: 0.8868\n",
      "Epoch 38/100\n",
      "24/24 [==============================] - 0s 2ms/step - loss: 0.2584 - accuracy: 0.8843\n",
      "Epoch 39/100\n",
      "24/24 [==============================] - 0s 2ms/step - loss: 0.2694 - accuracy: 0.8805\n",
      "Epoch 40/100\n",
      "24/24 [==============================] - 0s 2ms/step - loss: 0.2405 - accuracy: 0.8929\n",
      "Epoch 41/100\n",
      "24/24 [==============================] - 0s 2ms/step - loss: 0.2597 - accuracy: 0.8875\n",
      "Epoch 42/100\n",
      "24/24 [==============================] - 0s 2ms/step - loss: 0.2533 - accuracy: 0.8955\n",
      "Epoch 43/100\n",
      "24/24 [==============================] - 0s 2ms/step - loss: 0.2395 - accuracy: 0.8958\n",
      "Epoch 44/100\n",
      "24/24 [==============================] - 0s 2ms/step - loss: 0.2276 - accuracy: 0.9049\n",
      "Epoch 45/100\n",
      "24/24 [==============================] - 0s 2ms/step - loss: 0.2572 - accuracy: 0.8827\n",
      "Epoch 46/100\n",
      "24/24 [==============================] - 0s 2ms/step - loss: 0.2349 - accuracy: 0.8926\n",
      "Epoch 47/100\n",
      "24/24 [==============================] - 0s 2ms/step - loss: 0.2268 - accuracy: 0.9057\n",
      "Epoch 48/100\n",
      "24/24 [==============================] - 0s 2ms/step - loss: 0.2294 - accuracy: 0.9020\n",
      "Epoch 49/100\n",
      "24/24 [==============================] - 0s 2ms/step - loss: 0.2582 - accuracy: 0.8860\n",
      "Epoch 50/100\n",
      "24/24 [==============================] - 0s 2ms/step - loss: 0.2511 - accuracy: 0.8793\n",
      "Epoch 51/100\n",
      "24/24 [==============================] - 0s 913us/step - loss: 0.2544 - accuracy: 0.8812\n",
      "Epoch 52/100\n",
      "24/24 [==============================] - 0s 849us/step - loss: 0.2387 - accuracy: 0.8903\n",
      "Epoch 53/100\n",
      "24/24 [==============================] - 0s 834us/step - loss: 0.2824 - accuracy: 0.8622\n",
      "Epoch 54/100\n",
      "24/24 [==============================] - 0s 803us/step - loss: 0.2329 - accuracy: 0.8865\n",
      "Epoch 55/100\n",
      "24/24 [==============================] - 0s 884us/step - loss: 0.2295 - accuracy: 0.8916\n",
      "Epoch 56/100\n",
      "24/24 [==============================] - 0s 840us/step - loss: 0.2339 - accuracy: 0.8909\n",
      "Epoch 57/100\n",
      "24/24 [==============================] - 0s 771us/step - loss: 0.2213 - accuracy: 0.8944\n",
      "Epoch 58/100\n",
      "24/24 [==============================] - 0s 897us/step - loss: 0.2273 - accuracy: 0.8994\n",
      "Epoch 59/100\n",
      "24/24 [==============================] - 0s 874us/step - loss: 0.2295 - accuracy: 0.8917\n",
      "Epoch 60/100\n",
      "24/24 [==============================] - 0s 1ms/step - loss: 0.2207 - accuracy: 0.9052\n",
      "Epoch 61/100\n",
      "24/24 [==============================] - 0s 2ms/step - loss: 0.2272 - accuracy: 0.8904\n",
      "Epoch 62/100\n",
      "24/24 [==============================] - 0s 2ms/step - loss: 0.2092 - accuracy: 0.9066\n",
      "Epoch 63/100\n",
      "24/24 [==============================] - 0s 2ms/step - loss: 0.2538 - accuracy: 0.8799\n",
      "Epoch 64/100\n",
      "24/24 [==============================] - 0s 2ms/step - loss: 0.2410 - accuracy: 0.8904\n",
      "Epoch 65/100\n",
      "24/24 [==============================] - 0s 2ms/step - loss: 0.2414 - accuracy: 0.8848\n",
      "Epoch 66/100\n",
      "24/24 [==============================] - 0s 2ms/step - loss: 0.2165 - accuracy: 0.8973\n",
      "Epoch 67/100\n",
      "24/24 [==============================] - 0s 2ms/step - loss: 0.2462 - accuracy: 0.8877\n",
      "Epoch 68/100\n",
      "24/24 [==============================] - 0s 2ms/step - loss: 0.2247 - accuracy: 0.8981\n",
      "Epoch 69/100\n",
      "24/24 [==============================] - 0s 2ms/step - loss: 0.1955 - accuracy: 0.9100\n",
      "Epoch 70/100\n",
      "24/24 [==============================] - 0s 2ms/step - loss: 0.2273 - accuracy: 0.8990\n",
      "Epoch 71/100\n",
      "24/24 [==============================] - 0s 2ms/step - loss: 0.2267 - accuracy: 0.9005\n",
      "Epoch 72/100\n",
      "24/24 [==============================] - 0s 2ms/step - loss: 0.2196 - accuracy: 0.9027\n",
      "Epoch 73/100\n",
      "24/24 [==============================] - 0s 2ms/step - loss: 0.2416 - accuracy: 0.8848\n",
      "Epoch 74/100\n",
      "24/24 [==============================] - 0s 2ms/step - loss: 0.2189 - accuracy: 0.9060\n",
      "Epoch 75/100\n",
      "24/24 [==============================] - 0s 2ms/step - loss: 0.2222 - accuracy: 0.9070\n",
      "Epoch 76/100\n",
      "24/24 [==============================] - 0s 2ms/step - loss: 0.2549 - accuracy: 0.8770\n",
      "Epoch 77/100\n",
      "24/24 [==============================] - 0s 2ms/step - loss: 0.2269 - accuracy: 0.8935\n",
      "Epoch 78/100\n",
      "24/24 [==============================] - 0s 2ms/step - loss: 0.2119 - accuracy: 0.9030\n",
      "Epoch 79/100\n",
      "24/24 [==============================] - 0s 2ms/step - loss: 0.2137 - accuracy: 0.8968\n",
      "Epoch 80/100\n",
      "24/24 [==============================] - 0s 2ms/step - loss: 0.2122 - accuracy: 0.9055\n",
      "Epoch 81/100\n",
      "24/24 [==============================] - 0s 2ms/step - loss: 0.2074 - accuracy: 0.9045\n",
      "Epoch 82/100\n"
     ]
    },
    {
     "name": "stdout",
     "output_type": "stream",
     "text": [
      "24/24 [==============================] - 0s 2ms/step - loss: 0.1944 - accuracy: 0.9213\n",
      "Epoch 83/100\n",
      "24/24 [==============================] - 0s 2ms/step - loss: 0.2144 - accuracy: 0.8969\n",
      "Epoch 84/100\n",
      "24/24 [==============================] - 0s 2ms/step - loss: 0.2347 - accuracy: 0.8863\n",
      "Epoch 85/100\n",
      "24/24 [==============================] - 0s 2ms/step - loss: 0.2044 - accuracy: 0.9095\n",
      "Epoch 86/100\n",
      "24/24 [==============================] - 0s 2ms/step - loss: 0.2289 - accuracy: 0.8880\n",
      "Epoch 87/100\n",
      "24/24 [==============================] - 0s 2ms/step - loss: 0.1880 - accuracy: 0.9120\n",
      "Epoch 88/100\n",
      "24/24 [==============================] - 0s 2ms/step - loss: 0.2189 - accuracy: 0.9037\n",
      "Epoch 89/100\n",
      "24/24 [==============================] - 0s 2ms/step - loss: 0.1855 - accuracy: 0.9191\n",
      "Epoch 90/100\n",
      "24/24 [==============================] - 0s 2ms/step - loss: 0.2084 - accuracy: 0.9082\n",
      "Epoch 91/100\n",
      "24/24 [==============================] - 0s 2ms/step - loss: 0.1936 - accuracy: 0.9133\n",
      "Epoch 92/100\n",
      "24/24 [==============================] - 0s 2ms/step - loss: 0.1836 - accuracy: 0.9229\n",
      "Epoch 93/100\n",
      "24/24 [==============================] - 0s 2ms/step - loss: 0.1898 - accuracy: 0.9098\n",
      "Epoch 94/100\n",
      "24/24 [==============================] - 0s 2ms/step - loss: 0.2241 - accuracy: 0.9009\n",
      "Epoch 95/100\n",
      "24/24 [==============================] - 0s 2ms/step - loss: 0.2001 - accuracy: 0.9042\n",
      "Epoch 96/100\n",
      "24/24 [==============================] - 0s 2ms/step - loss: 0.2060 - accuracy: 0.9010\n",
      "Epoch 97/100\n",
      "24/24 [==============================] - 0s 2ms/step - loss: 0.2132 - accuracy: 0.8996\n",
      "Epoch 98/100\n",
      "24/24 [==============================] - 0s 2ms/step - loss: 0.2167 - accuracy: 0.9012\n",
      "Epoch 99/100\n",
      "24/24 [==============================] - 0s 2ms/step - loss: 0.1981 - accuracy: 0.9199\n",
      "Epoch 100/100\n",
      "24/24 [==============================] - 0s 2ms/step - loss: 0.2309 - accuracy: 0.8922\n"
     ]
    }
   ],
   "source": [
    "# Compile the Sequential Model together and customize metrics \n",
    "new_model.compile(loss=\"binary_crossentropy\", optimizer=\"adam\", metrics=[\"accuracy\"])\n",
    "\n",
    "# Fit the model to the training data\n",
    "new_fit_model = new_model.fit(X_moon_train_scaled, y_moon_train, epochs=100, shuffle=True)"
   ]
  },
  {
   "cell_type": "code",
   "execution_count": 31,
   "id": "21f02ec7",
   "metadata": {},
   "outputs": [
    {
     "data": {
      "text/plain": [
       "<AxesSubplot:xlabel='Feature 1', ylabel='Feature 2'>"
      ]
     },
     "execution_count": 31,
     "metadata": {},
     "output_type": "execute_result"
    },
    {
     "data": {
      "image/png": "[encoded data removed]",
      "text/plain": [
       "<Figure size 432x288 with 1 Axes>"
      ]
     },
     "metadata": {
      "needs_background": "light"
     },
     "output_type": "display_data"
    }
   ],
   "source": [
    "df.plot.scatter(x=\"Feature 1\", y=\"Feature 2\")"
   ]
  },
  {
   "cell_type": "code",
   "execution_count": null,
   "id": "ac1e6ef7",
   "metadata": {},
   "outputs": [],
   "source": []
  },
  {
   "cell_type": "code",
   "execution_count": null,
   "id": "a51c2b20",
   "metadata": {},
   "outputs": [],
   "source": []
  },
  {
   "cell_type": "code",
   "execution_count": null,
   "id": "1a2b0772",
   "metadata": {},
   "outputs": [],
   "source": []
  }
 ],
 "metadata": {
  "kernelspec": {
   "display_name": "mlenv",
   "language": "python",
   "name": "mlenv"
  },
  "language_info": {
   "codemirror_mode": {
    "name": "ipython",
    "version": 3
   },
   "file_extension": ".py",
   "mimetype": "text/x-python",
   "name": "python",
   "nbconvert_exporter": "python",
   "pygments_lexer": "ipython3",
   "version": "3.7.9"
  }
 },
 "nbformat": 4,
 "nbformat_minor": 5
}
